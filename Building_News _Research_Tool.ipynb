{
 "cells": [
  {
   "cell_type": "markdown",
   "metadata": {},
   "source": [
    "#### Task 1.1: Install Required Libraries"
   ]
  },
  {
   "cell_type": "code",
   "execution_count": 1,
   "metadata": {},
   "outputs": [
    {
     "ename": "ModuleNotFoundError",
     "evalue": "No module named 'newsapi'",
     "output_type": "error",
     "traceback": [
      "\u001b[1;31m---------------------------------------------------------------------------\u001b[0m",
      "\u001b[1;31mModuleNotFoundError\u001b[0m                       Traceback (most recent call last)",
      "Cell \u001b[1;32mIn[1], line 1\u001b[0m\n\u001b[1;32m----> 1\u001b[0m \u001b[38;5;28;01mfrom\u001b[39;00m \u001b[38;5;21;01mnewsapi\u001b[39;00m \u001b[38;5;28;01mimport\u001b[39;00m NewsApiClient\n",
      "\u001b[1;31mModuleNotFoundError\u001b[0m: No module named 'newsapi'"
     ]
    }
   ],
   "source": [
    "\n",
    "from newsapi import NewsApiClient"
   ]
  },
  {
   "cell_type": "code",
   "execution_count": null,
   "metadata": {},
   "outputs": [],
   "source": [
    "# Initialize the NewsAPI client with your API key\n",
    "newsapi = NewsApiClient(api_key='712cb6c61d654ea2b1fbddf4de5b01c2')\n",
    "\n",
    "# Define a function to get news articles based on a query\n",
    "def get_news_articles(query):\n",
    "    articles = newsapi.get_everything(q=query, language='en', sort_by='relevancy')\n",
    "    return articles['articles']\n",
    "\n",
    "# Example usage\n",
    "query = 'technology'\n",
    "articles = get_news_articles(query)\n",
    "for article in articles:\n",
    "    print(f\"Title: {article['title']}\")\n",
    "    print(f\"Description: {article['description']}\\n\")\n"
   ]
  },
  {
   "cell_type": "code",
   "execution_count": null,
   "metadata": {},
   "outputs": [],
   "source": []
  }
 ],
 "metadata": {
  "kernelspec": {
   "display_name": "Python 3 (ipykernel)",
   "language": "python",
   "name": "python3"
  },
  "language_info": {
   "codemirror_mode": {
    "name": "ipython",
    "version": 3
   },
   "file_extension": ".py",
   "mimetype": "text/x-python",
   "name": "python",
   "nbconvert_exporter": "python",
   "pygments_lexer": "ipython3",
   "version": "3.12.4"
  }
 },
 "nbformat": 4,
 "nbformat_minor": 4
}
